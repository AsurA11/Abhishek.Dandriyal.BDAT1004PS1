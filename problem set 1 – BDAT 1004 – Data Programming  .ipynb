{
 "cells": [
  {
   "cell_type": "markdown",
   "id": "9114f85e",
   "metadata": {},
   "source": [
    "# Problem Set 1\n"
   ]
  },
  {
   "cell_type": "markdown",
   "id": "902544a5",
   "metadata": {},
   "source": [
    "# Question 1"
   ]
  },
  {
   "cell_type": "markdown",
   "id": "9f69fb50",
   "metadata": {},
   "source": [
    "What data type is each of the following (evaluate where necessary)?\n",
    "\n",
    "a) 5\n",
    "\n",
    "b) 5.0\n",
    "\n",
    "c) 5 > 1\n",
    "\n",
    "d) '5'\n",
    "\n",
    "e) 5 * 2\n",
    "\n",
    "f) '5' * 2\n",
    "\n",
    "g) '5' + '2'\n",
    "\n",
    "h) 5 / 2\n",
    "\n",
    "i) 5 % 2\n",
    "\n",
    "j) {5, 2, 1}\n",
    "\n",
    "k) 5 == 3\n",
    "\n",
    "l) Pi (the number)"
   ]
  },
  {
   "cell_type": "code",
   "execution_count": 51,
   "id": "e83ae024",
   "metadata": {},
   "outputs": [
    {
     "name": "stdout",
     "output_type": "stream",
     "text": [
      "<class 'int'>\n"
     ]
    }
   ],
   "source": [
    "# Program for 5\n",
    "a = 5\n",
    "print(type(a)) "
   ]
  },
  {
   "cell_type": "code",
   "execution_count": 52,
   "id": "d1dd24e0",
   "metadata": {},
   "outputs": [
    {
     "name": "stdout",
     "output_type": "stream",
     "text": [
      "<class 'float'>\n"
     ]
    }
   ],
   "source": [
    "# Program for 5.0\n",
    "a = 5.0\n",
    "print(type(a))  "
   ]
  },
  {
   "cell_type": "code",
   "execution_count": 53,
   "id": "5aacf11a",
   "metadata": {},
   "outputs": [
    {
     "name": "stdout",
     "output_type": "stream",
     "text": [
      "<class 'bool'>\n"
     ]
    }
   ],
   "source": [
    "# Program for 5 > 1\n",
    "a = 5 > 1\n",
    "print(type(a)) "
   ]
  },
  {
   "cell_type": "code",
   "execution_count": 54,
   "id": "c4068ca8",
   "metadata": {},
   "outputs": [
    {
     "name": "stdout",
     "output_type": "stream",
     "text": [
      "<class 'str'>\n"
     ]
    }
   ],
   "source": [
    "# Program for '5'\n",
    "a = '5'\n",
    "print(type(a))  "
   ]
  },
  {
   "cell_type": "code",
   "execution_count": 55,
   "id": "d92cccb3",
   "metadata": {},
   "outputs": [
    {
     "name": "stdout",
     "output_type": "stream",
     "text": [
      "<class 'int'>\n"
     ]
    }
   ],
   "source": [
    "# Program for 5 * 2\n",
    "a = 5 * 2\n",
    "print(type(a)) "
   ]
  },
  {
   "cell_type": "code",
   "execution_count": 56,
   "id": "1bfb49a5",
   "metadata": {},
   "outputs": [
    {
     "name": "stdout",
     "output_type": "stream",
     "text": [
      "<class 'str'>\n"
     ]
    }
   ],
   "source": [
    "# Program for '5' * 2\n",
    "a = '5' * 2\n",
    "print(type(a))  "
   ]
  },
  {
   "cell_type": "code",
   "execution_count": 57,
   "id": "93999b83",
   "metadata": {},
   "outputs": [
    {
     "name": "stdout",
     "output_type": "stream",
     "text": [
      "<class 'str'>\n"
     ]
    }
   ],
   "source": [
    "# Program for '5' + '2'\n",
    "a = '5' + '2'\n",
    "print(type(a))  "
   ]
  },
  {
   "cell_type": "code",
   "execution_count": 58,
   "id": "5a96c7a9",
   "metadata": {},
   "outputs": [
    {
     "name": "stdout",
     "output_type": "stream",
     "text": [
      "<class 'float'>\n"
     ]
    }
   ],
   "source": [
    "# Program for 5 / 2\n",
    "a = 5 / 2\n",
    "print(type(a))  "
   ]
  },
  {
   "cell_type": "code",
   "execution_count": 59,
   "id": "1dcbbf52",
   "metadata": {},
   "outputs": [
    {
     "name": "stdout",
     "output_type": "stream",
     "text": [
      "<class 'int'>\n"
     ]
    }
   ],
   "source": [
    "# Program for 5 % 2\n",
    "a = 5 % 2\n",
    "print(type(a))  "
   ]
  },
  {
   "cell_type": "code",
   "execution_count": 60,
   "id": "d79e0784",
   "metadata": {},
   "outputs": [
    {
     "name": "stdout",
     "output_type": "stream",
     "text": [
      "<class 'set'>\n"
     ]
    }
   ],
   "source": [
    "# Program for {5, 2, 1}\n",
    "a = {5, 2, 1}\n",
    "print(type(a)) "
   ]
  },
  {
   "cell_type": "code",
   "execution_count": 61,
   "id": "ecd7cbd3",
   "metadata": {},
   "outputs": [
    {
     "name": "stdout",
     "output_type": "stream",
     "text": [
      "<class 'bool'>\n"
     ]
    }
   ],
   "source": [
    "# Program for 5 == 3\n",
    "a= 5 == 3\n",
    "print(type(a)) "
   ]
  },
  {
   "cell_type": "code",
   "execution_count": 62,
   "id": "21286c3c",
   "metadata": {},
   "outputs": [
    {
     "name": "stdout",
     "output_type": "stream",
     "text": [
      "<class 'float'>\n"
     ]
    }
   ],
   "source": [
    "# Program for Pi\n",
    "\n",
    "import math\n",
    "a = math.pi\n",
    "print(type(a)) "
   ]
  },
  {
   "cell_type": "markdown",
   "id": "de18e8da",
   "metadata": {},
   "source": [
    "# Question 2"
   ]
  },
  {
   "cell_type": "markdown",
   "id": "d4f1bafd",
   "metadata": {},
   "source": [
    "Write (and evaluate) python expressions that answer these questions:\n",
    "\n",
    "a. How many letters are there in 'Supercalifragilisticexpialidocious'?\n",
    "\n",
    "b. Does 'Supercalifragilisticexpialidocious' contain 'ice' as a substring?\n",
    "\n",
    "c. Which of the following words is the longest:\n",
    "Supercalifragilisticexpialidocious, Honorificabilitudinitatibus, or\n",
    "Bababadalgharaghtakamminarronnkonn?\n",
    "\n",
    "d. Which composer comes first in the dictionary: 'Berlioz', 'Borodin', 'Brian','Bartok', 'Bellini', \n",
    "'Buxtehude', 'Bernstein'. Which one comes last?"
   ]
  },
  {
   "cell_type": "code",
   "execution_count": 63,
   "id": "931e6e59",
   "metadata": {},
   "outputs": [
    {
     "name": "stdout",
     "output_type": "stream",
     "text": [
      "Number of letters: 34\n"
     ]
    }
   ],
   "source": [
    "# How many letters are there in 'Supercalifragilisticexpialidocious'?\n",
    "\n",
    "a = 'Supercalifragilisticexpialidocious'\n",
    "count = len(a)\n",
    "print(\"Number of letters:\", count)"
   ]
  },
  {
   "cell_type": "code",
   "execution_count": 64,
   "id": "71a6d36e",
   "metadata": {},
   "outputs": [
    {
     "name": "stdout",
     "output_type": "stream",
     "text": [
      "Contains 'ice' as a substring: True\n"
     ]
    }
   ],
   "source": [
    "# Does 'Supercalifragilisticexpialidocious' contain 'ice' as a substring?\n",
    "\n",
    "a = 'Supercalifragilisticexpialidocious'\n",
    "b = 'ice' in a\n",
    "print(\"Contains 'ice' as a substring:\", b)  \n"
   ]
  },
  {
   "cell_type": "code",
   "execution_count": 65,
   "id": "387c04bb",
   "metadata": {},
   "outputs": [
    {
     "name": "stdout",
     "output_type": "stream",
     "text": [
      "Longest word: Supercalifragilisticexpialidocious\n"
     ]
    }
   ],
   "source": [
    "# Which of the following words is the longest:\n",
    "\n",
    "a = ['Supercalifragilisticexpialidocious',\n",
    "    'Honorificabilitudinitatibus',\n",
    "    'Bababadalgharaghtakamminarronnkonn']\n",
    "\n",
    "b = max(a) #longest word using max() function \n",
    "print(\"Longest word:\", b)  "
   ]
  },
  {
   "cell_type": "code",
   "execution_count": 66,
   "id": "c9afee39",
   "metadata": {},
   "outputs": [
    {
     "name": "stdout",
     "output_type": "stream",
     "text": [
      "First composer: Bartok\n",
      "Last composer: Buxtehude\n"
     ]
    }
   ],
   "source": [
    "# List of composer names\n",
    "a = ['Berlioz', 'Borodin', 'Brian', 'Bartok', 'Bellini', 'Buxtehude', 'Bernstein']\n",
    "\n",
    "# Sort the list alphabetically\n",
    "a.sort()\n",
    "\n",
    "first_composer = a[0] # First composer\n",
    "last_composer = a[-1] # Last composer\n",
    "\n",
    "print(\"First composer:\", first_composer)  \n",
    "print(\"Last composer:\", last_composer)   "
   ]
  },
  {
   "cell_type": "markdown",
   "id": "de16f215",
   "metadata": {},
   "source": [
    "# Question 3"
   ]
  },
  {
   "cell_type": "markdown",
   "id": "96bc7ce3",
   "metadata": {},
   "source": [
    "Implement function triangleArea(a,b,c) that takes as input the lengths of the 3sides of a triangle \n",
    "and returns the area of the triangle. By Heron's formula, the areaof a triangle with side lengths a, b, \n",
    "and c is s(s - a)(s -b)(s -c), where s = (a+b+c)/2. "
   ]
  },
  {
   "cell_type": "code",
   "execution_count": 67,
   "id": "f9f90013",
   "metadata": {},
   "outputs": [
    {
     "name": "stdout",
     "output_type": "stream",
     "text": [
      "Enter the length of side a: 2\n",
      "Enter the length of side b: 2\n",
      "Enter the length of side c: 2\n",
      "Area of the triangle: 1.7320508075688772\n"
     ]
    }
   ],
   "source": [
    "import math\n",
    "\n",
    "def triangleArea(a, b, c):\n",
    "    \n",
    "    s = (a + b + c) / 2   # Calculate the semi-perimeter (s)\n",
    "\n",
    "    area = math.sqrt(s * (s - a) * (s - b) * (s - c)) # Calculate the area using Heron's formula\n",
    "\n",
    "    return area\n",
    "\n",
    "a = float(input(\"Enter the length of side a: \"))\n",
    "b = float(input(\"Enter the length of side b: \"))\n",
    "c = float(input(\"Enter the length of side c: \"))\n",
    "\n",
    "area = triangleArea(a, b, c)\n",
    "print(\"Area of the triangle:\", area)"
   ]
  },
  {
   "cell_type": "markdown",
   "id": "3ab68828",
   "metadata": {},
   "source": [
    "# Question 4"
   ]
  },
  {
   "cell_type": "markdown",
   "id": "e7f48e0f",
   "metadata": {},
   "source": [
    "Write a program in python to separate odd and even integers in separate arrays. Go to the editor \n",
    "\n",
    "Test Data :\n",
    "    \n",
    "Input the number of elements to be stored in the array :5\n",
    "Input 5 elements in the array :\n",
    "element - 0 : 25\n",
    "element - 1 : 47\n",
    "element - 2 : 42\n",
    "element - 3 : 56\n",
    "element - 4 : 32\n",
    "    \n",
    "Expected Output:\n",
    "    \n",
    "The Even elements are:\n",
    "42 56 32\n",
    "The Odd elements are :\n",
    "25 47"
   ]
  },
  {
   "cell_type": "code",
   "execution_count": 72,
   "id": "e4c0513e",
   "metadata": {},
   "outputs": [
    {
     "name": "stdout",
     "output_type": "stream",
     "text": [
      "Input the number of elements to be stored in the array: 5\n",
      "element - 0 : 25\n",
      "element - 1 : 47\n",
      "element - 2 : 42\n",
      "element - 3 : 56\n",
      "element - 4 : 32\n",
      "The Even elements are: [42, 56, 32]\n",
      "The Odd elements are : [25, 47]\n"
     ]
    }
   ],
   "source": [
    "# Input the number of elements\n",
    "elements = int(input(\"Input the number of elements to be stored in the array: \"))\n",
    "\n",
    "# Initialize empty lists for even and odd numbers\n",
    "even_numbers = []\n",
    "odd_numbers = []\n",
    "\n",
    "# Input elements into the array\n",
    "for i in range(elements):\n",
    "    element = int(input(f\"element - {i} : \"))\n",
    "    \n",
    "    # Check if the element is even or odd and add it to the respective list\n",
    "    if element % 2 == 0:\n",
    "        even_numbers.append(element)\n",
    "    else:\n",
    "        odd_numbers.append(element)\n",
    "\n",
    "# Print the even and odd elements\n",
    "print(\"The Even elements are:\" , even_numbers)\n",
    "print(\"The Odd elements are :\" , odd_numbers)"
   ]
  },
  {
   "cell_type": "markdown",
   "id": "b1dc415a",
   "metadata": {},
   "source": [
    "# Question 5"
   ]
  },
  {
   "cell_type": "markdown",
   "id": "4bc2131d",
   "metadata": {},
   "source": [
    "a. Write a function inside(x,y,x1,y1,x2,y2) that returns True or False depending on whether the point (x,y) \n",
    "lies in the rectangle with lower left corner (x1,y1) and upper right corner (x2,y2)."
   ]
  },
  {
   "cell_type": "code",
   "execution_count": 75,
   "id": "f96c1fbb",
   "metadata": {},
   "outputs": [
    {
     "name": "stdout",
     "output_type": "stream",
     "text": [
      "Enter the x-coordinate of the point: 1\n",
      "Enter the y-coordinate of the point: 1\n",
      "Enter the x-coordinate of the lower left corner of the rectangle: 0\n",
      "Enter the y-coordinate of the lower left corner of the rectangle: 0\n",
      "Enter the x-coordinate of the upper right corner of the rectangle: 2\n",
      "Enter the y-coordinate of the upper right corner of the rectangle: 3\n",
      "True\n"
     ]
    }
   ],
   "source": [
    "def inside(x, y, x1, y1, x2, y2):\n",
    "    # Check if (x, y) is within the rectangle defined by (x1, y1) and (x2, y2)\n",
    "    if x1 <= x <= x2 and y1 <= y <= y2:\n",
    "        return True\n",
    "    else:\n",
    "        return False\n",
    "\n",
    "\n",
    "x = float(input(\"Enter the x-coordinate of the point: \"))\n",
    "y = float(input(\"Enter the y-coordinate of the point: \"))\n",
    "x1 = float(input(\"Enter the x-coordinate of the lower left corner of the rectangle: \"))\n",
    "y1 = float(input(\"Enter the y-coordinate of the lower left corner of the rectangle: \"))\n",
    "x2 = float(input(\"Enter the x-coordinate of the upper right corner of the rectangle: \"))\n",
    "y2 = float(input(\"Enter the y-coordinate of the upper right corner of the rectangle: \"))\n",
    "\n",
    "    \n",
    "if inside(x, y, x1, y1, x2, y2): # Check if the point is inside the rectangle and print the result\n",
    "    print(\"True\")\n",
    "else:\n",
    "    print(\"False\")\n",
    "\n"
   ]
  },
  {
   "cell_type": "code",
   "execution_count": 79,
   "id": "f1b79d1a",
   "metadata": {},
   "outputs": [
    {
     "name": "stdout",
     "output_type": "stream",
     "text": [
      "Enter the x-coordinate of the point: -1\n",
      "Enter the y-coordinate of the point: -1\n",
      "Enter the x-coordinate of the lower left corner of the rectangle: 0\n",
      "Enter the y-coordinate of the lower left corner of the rectangle: 0\n",
      "Enter the x-coordinate of the upper right corner of the rectangle: 2\n",
      "Enter the y-coordinate of the upper right corner of the rectangle: 3\n",
      "False\n"
     ]
    }
   ],
   "source": [
    "x = float(input(\"Enter the x-coordinate of the point: \"))\n",
    "y = float(input(\"Enter the y-coordinate of the point: \"))\n",
    "x1 = float(input(\"Enter the x-coordinate of the lower left corner of the rectangle: \"))\n",
    "y1 = float(input(\"Enter the y-coordinate of the lower left corner of the rectangle: \"))\n",
    "x2 = float(input(\"Enter the x-coordinate of the upper right corner of the rectangle: \"))\n",
    "y2 = float(input(\"Enter the y-coordinate of the upper right corner of the rectangle: \"))\n",
    "\n",
    "   \n",
    "if inside(x, y, x1, y1, x2, y2): # Check if the point is inside the rectangle and print the result\n",
    "    print(\"True\")\n",
    "else:\n",
    "    print(\"False\")"
   ]
  },
  {
   "cell_type": "markdown",
   "id": "c7a5f70a",
   "metadata": {},
   "source": [
    "b. Use function inside() from part a. to write an expression that tests whether the point (1,1) lies in both \n",
    "of the following rectangles: one with lower left corner (0.3, 0.5) and upper right corner (1.1, 0.7) and the other with lower\n",
    "left corner (0.5, 0.2) and upper right corner (1.1, 2). "
   ]
  },
  {
   "cell_type": "code",
   "execution_count": 92,
   "id": "e7f47952",
   "metadata": {},
   "outputs": [
    {
     "name": "stdout",
     "output_type": "stream",
     "text": [
      "(1, 1) is not inside both rectangles.\n"
     ]
    }
   ],
   "source": [
    "\n",
    "# Coordinates of the point (1, 1)\n",
    "x = 1\n",
    "y = 1\n",
    "\n",
    "# Rectangle 1 coordinates\n",
    "x1_rect1 = 0.3\n",
    "y1_rect1 = 0.5\n",
    "x2_rect1 = 1.1\n",
    "y2_rect1 = 0.7\n",
    "\n",
    "# Rectangle 2 coordinates\n",
    "x1_rect2 = 0.5\n",
    "y1_rect2 = 0.2\n",
    "x2_rect2 = 1.1\n",
    "y2_rect2 = 2\n",
    "\n",
    "# Check if (1, 1) is inside both rectangles\n",
    "rect1 = inside(x, y, x1_rect1, y1_rect1, x2_rect1, y2_rect1)\n",
    "rect2 = inside(x, y, x1_rect2, y1_rect2, x2_rect2, y2_rect2)\n",
    "\n",
    "# Check if (1, 1) is inside both rectangles\n",
    "if rect1 and rect2:\n",
    "    print(\"(1, 1) is inside both rectangles.\")\n",
    "else:\n",
    "    print(\"(1, 1) is not inside both rectangles.\")\n"
   ]
  },
  {
   "cell_type": "markdown",
   "id": "4ffabb02",
   "metadata": {},
   "source": [
    "# Question 6"
   ]
  },
  {
   "cell_type": "markdown",
   "id": "f910a5df",
   "metadata": {},
   "source": [
    "You can turn a word into pig-Latin using the following two rules (simplified):\n",
    "• If the word starts with a consonant, move that letter to the end and append 'ay'. \n",
    "For example, 'happy' becomes 'appyhay' and 'pencil' becomes 'encilpay'.\n",
    "• If the word starts with a vowel, simply append 'way' to the end of the word.\n",
    "For example, 'enter' becomes 'enterway' and 'other' becomes 'otherway' . For our purposes, there \n",
    "are 5 vowels: a, e, i, o, u (so we count y as a consonant).\n",
    "Write a function pig() that takes a word (i.e., a string) as input and returns its pigLatin form.\n",
    "Your function should still work if the input word contains upper casecharacters. Your output should always\n",
    "be lower case however. "
   ]
  },
  {
   "cell_type": "code",
   "execution_count": 1,
   "id": "c82f9f4f",
   "metadata": {},
   "outputs": [
    {
     "name": "stdout",
     "output_type": "stream",
     "text": [
      "Enter a word: ant\n",
      "Pig Latin word: antway\n"
     ]
    }
   ],
   "source": [
    "def pig(word):\n",
    "    \n",
    "    word = word.lower() # Convert the word to lowercase to handle uppercase characters\n",
    "    \n",
    "    vowels = ['a', 'e', 'i', 'o', 'u']  # Define a list of vowels\n",
    "    \n",
    "    if word[0] in vowels: # Check if the word starts with a vowel\n",
    "        piglatin = word + 'way'\n",
    "       \n",
    "    else:\n",
    "        piglatin = word[1:] + word[0] + 'ay'\n",
    "    \n",
    "    return piglatin\n",
    "\n",
    "user_input = input(\"Enter a word: \")\n",
    "piglatin_result = pig(user_input)\n",
    "print(\"Pig Latin word:\", piglatin_result)\n"
   ]
  },
  {
   "cell_type": "markdown",
   "id": "563e47d1",
   "metadata": {},
   "source": [
    "# Question 7"
   ]
  },
  {
   "cell_type": "markdown",
   "id": "1723bf57",
   "metadata": {},
   "source": [
    "File bloodtype1.txt records blood-types of patients (A, B, AB, O or OO) at a clinic.\n",
    "Write a function bldcount() that reads the file with name and reports (i.e.,prints) how many patients \n",
    "there are in each bloodtype."
   ]
  },
  {
   "cell_type": "code",
   "execution_count": 10,
   "id": "be10aa84",
   "metadata": {},
   "outputs": [
    {
     "name": "stdout",
     "output_type": "stream",
     "text": [
      "Blood Type A: 15 patients\n",
      "Blood Type B: 1 patients\n",
      "Blood Type AB: 13 patients\n",
      "Blood Type O: 15 patients\n",
      "Blood Type OO: 0 patients\n"
     ]
    }
   ],
   "source": [
    "def bldcount(file):\n",
    "    # Initialize a dictionary to store the blood type counts\n",
    "    bloodtype_counts = {\n",
    "        'A': 0,\n",
    "        'B': 0,\n",
    "        'AB': 0,\n",
    "        'O': 0,\n",
    "        'OO': 0\n",
    "    }\n",
    "\n",
    "    # Open the file for reading\n",
    "    with open(file, 'r') as f:\n",
    "        # Read the content of the file\n",
    "        data_split = f.read()\n",
    "            \n",
    "        # Split the data into a list of blood types\n",
    "        blood_types = data_split.split()\n",
    "            \n",
    "        # Count the occurrences of each blood type\n",
    "        for blood in blood_types:\n",
    "            if blood in bloodtype_counts:\n",
    "                bloodtype_counts[blood] += 1\n",
    "\n",
    "    # Print the blood type counts\n",
    "    for blood, count in bloodtype_counts.items():\n",
    "        print(f\"Blood Type {blood}: {count} patients\")\n",
    "\n",
    "# Call the function with the file name\n",
    "bldcount('bloodtype1.txt')\n"
   ]
  },
  {
   "cell_type": "markdown",
   "id": "9038922b",
   "metadata": {},
   "source": [
    "# Question 8"
   ]
  },
  {
   "cell_type": "markdown",
   "id": "7de98487",
   "metadata": {},
   "source": [
    "Write a function curconv() that takes as input:\n",
    "1. a currency represented using a string (e.g., 'JPY' for the Japanese Yen or \n",
    "'EUR' for the Euro)\n",
    "2. an amount\n",
    "and then converts and returns the amount in US dollars."
   ]
  },
  {
   "cell_type": "code",
   "execution_count": 23,
   "id": "00788a89",
   "metadata": {},
   "outputs": [
    {
     "name": "stdout",
     "output_type": "stream",
     "text": [
      "Enter the currency code: JPY\n",
      "Enter the amount: 100\n",
      "100.0 JPY is equal to 1.241401 USD\n"
     ]
    }
   ],
   "source": [
    "def curconv(currency_code, amount):\n",
    "    # Open and read the 'currencies.txt' file\n",
    "    with open('currencies.txt', 'r') as f:\n",
    "        contents = f.readlines()\n",
    "    \n",
    "    # Create a dictionary to store the currency rates\n",
    "    conversion_rates = {}\n",
    "    \n",
    "    # Parse the lines and populate the conversion_rates dictionary\n",
    "    for content in contents:\n",
    "        parts = content.split()\n",
    "        if len(parts) >= 3:\n",
    "            code, rate = parts[:2]\n",
    "            conversion_rates[code] = float(rate)\n",
    "    \n",
    "    # Convert the user's lowercase input to uppercase\n",
    "    currency_code = currency_code.upper()\n",
    "    \n",
    "    # Check if the provided currency code exists in the conversion_rates dictionary\n",
    "    if currency_code in conversion_rates:\n",
    "        # Convert the amount to US dollars using the conversion rate\n",
    "        usd = amount * conversion_rates[currency_code]\n",
    "        return usd\n",
    "    else:\n",
    "        print(f\"Currency code '{currency_code}' not found in the currency rates.\")\n",
    "\n",
    "# Input from the user\n",
    "currency_code = input(\"Enter the currency code: \")\n",
    "amount = float(input(\"Enter the amount: \"))\n",
    "\n",
    "# Call the curconv function with user input\n",
    "result = curconv(currency_code, amount)\n",
    "\n",
    "if result is not None:\n",
    "    print(f\"{amount} {currency_code} is equal to {result} USD\")\n"
   ]
  },
  {
   "cell_type": "markdown",
   "id": "08902d33",
   "metadata": {},
   "source": [
    "# Question 9"
   ]
  },
  {
   "cell_type": "markdown",
   "id": "1991ecd8",
   "metadata": {},
   "source": [
    "Each of the following will cause an exception (an error). Identify what type of exception each will cause.\n",
    "\n",
    "Trying to add incompatible variables, as in adding 6 + ‘a’\n",
    "\n",
    "Referring to the 12th item of a list that has only 10 items\n",
    "\n",
    "Using a value that is out of range for a function’s input, such as calling math.sqrt(-1.0)\n",
    "\n",
    "Using an undeclared variable, such as print(x) when x has not been defined\n",
    "\n",
    "Trying to open a file that does not exist, such as mistyping the file name or looking in the wrong directory. "
   ]
  },
  {
   "cell_type": "code",
   "execution_count": 108,
   "id": "24c3efdd",
   "metadata": {},
   "outputs": [
    {
     "ename": "TypeError",
     "evalue": "unsupported operand type(s) for +: 'int' and 'str'",
     "output_type": "error",
     "traceback": [
      "\u001b[1;31m---------------------------------------------------------------------------\u001b[0m",
      "\u001b[1;31mTypeError\u001b[0m                                 Traceback (most recent call last)",
      "Cell \u001b[1;32mIn[108], line 1\u001b[0m\n\u001b[1;32m----> 1\u001b[0m b \u001b[38;5;241m=\u001b[39m \u001b[38;5;241m6\u001b[39m \u001b[38;5;241m+\u001b[39m \u001b[38;5;124m'\u001b[39m\u001b[38;5;124ma\u001b[39m\u001b[38;5;124m'\u001b[39m\n",
      "\u001b[1;31mTypeError\u001b[0m: unsupported operand type(s) for +: 'int' and 'str'"
     ]
    }
   ],
   "source": [
    "# Trying to add incompatible variables, as in adding 6 + ‘a’\n",
    "b = 6 + 'a'"
   ]
  },
  {
   "cell_type": "code",
   "execution_count": 111,
   "id": "f7cd6984",
   "metadata": {},
   "outputs": [
    {
     "ename": "IndexError",
     "evalue": "list index out of range",
     "output_type": "error",
     "traceback": [
      "\u001b[1;31m---------------------------------------------------------------------------\u001b[0m",
      "\u001b[1;31mIndexError\u001b[0m                                Traceback (most recent call last)",
      "Cell \u001b[1;32mIn[111], line 2\u001b[0m\n\u001b[0;32m      1\u001b[0m \u001b[38;5;28mlist\u001b[39m \u001b[38;5;241m=\u001b[39m [\u001b[38;5;241m1\u001b[39m, \u001b[38;5;241m5\u001b[39m, \u001b[38;5;241m55\u001b[39m, \u001b[38;5;241m42\u001b[39m, \u001b[38;5;241m3\u001b[39m, \u001b[38;5;241m68\u001b[39m, \u001b[38;5;241m7\u001b[39m, \u001b[38;5;241m82\u001b[39m, \u001b[38;5;241m98\u001b[39m, \u001b[38;5;241m10\u001b[39m]\n\u001b[1;32m----> 2\u001b[0m a \u001b[38;5;241m=\u001b[39m \u001b[38;5;28mlist\u001b[39m[\u001b[38;5;241m12\u001b[39m]\n",
      "\u001b[1;31mIndexError\u001b[0m: list index out of range"
     ]
    }
   ],
   "source": [
    "# Referring to the 12th item of a list that has only 10 items\n",
    "list = [1, 5, 55, 42, 3, 68, 7, 82, 98, 10]\n",
    "a = list[12]"
   ]
  },
  {
   "cell_type": "code",
   "execution_count": 112,
   "id": "82e38ba6",
   "metadata": {},
   "outputs": [
    {
     "ename": "ValueError",
     "evalue": "math domain error",
     "output_type": "error",
     "traceback": [
      "\u001b[1;31m---------------------------------------------------------------------------\u001b[0m",
      "\u001b[1;31mValueError\u001b[0m                                Traceback (most recent call last)",
      "Cell \u001b[1;32mIn[112], line 3\u001b[0m\n\u001b[0;32m      1\u001b[0m \u001b[38;5;66;03m# Using a value that is out of range for a function’s input, such as calling math.sqrt(-1.0)\u001b[39;00m\n\u001b[0;32m      2\u001b[0m \u001b[38;5;28;01mimport\u001b[39;00m \u001b[38;5;21;01mmath\u001b[39;00m\n\u001b[1;32m----> 3\u001b[0m a \u001b[38;5;241m=\u001b[39m math\u001b[38;5;241m.\u001b[39msqrt(\u001b[38;5;241m-\u001b[39m\u001b[38;5;241m1.0\u001b[39m)\n",
      "\u001b[1;31mValueError\u001b[0m: math domain error"
     ]
    }
   ],
   "source": [
    "# Using a value that is out of range for a function’s input, such as calling math.sqrt(-1.0)\n",
    "import math\n",
    "a = math.sqrt(-1.0)"
   ]
  },
  {
   "cell_type": "code",
   "execution_count": 2,
   "id": "1ad296c2",
   "metadata": {},
   "outputs": [
    {
     "ename": "NameError",
     "evalue": "name 'var' is not defined",
     "output_type": "error",
     "traceback": [
      "\u001b[1;31m---------------------------------------------------------------------------\u001b[0m",
      "\u001b[1;31mNameError\u001b[0m                                 Traceback (most recent call last)",
      "Cell \u001b[1;32mIn[2], line 2\u001b[0m\n\u001b[0;32m      1\u001b[0m \u001b[38;5;66;03m#Using an undeclared variable, such as print(x) when x has not been defined\u001b[39;00m\n\u001b[1;32m----> 2\u001b[0m \u001b[38;5;28mprint\u001b[39m(var)\n",
      "\u001b[1;31mNameError\u001b[0m: name 'var' is not defined"
     ]
    }
   ],
   "source": [
    "#Using an undeclared variable, such as print(x) when x has not been defined\n",
    "print(var) # using var instead of x for example as x has already been defined in above cells."
   ]
  },
  {
   "cell_type": "code",
   "execution_count": 128,
   "id": "62fb0bd6",
   "metadata": {},
   "outputs": [
    {
     "ename": "FileNotFoundError",
     "evalue": "[Errno 2] No such file or directory: 'hello_file.txt'",
     "output_type": "error",
     "traceback": [
      "\u001b[1;31m---------------------------------------------------------------------------\u001b[0m",
      "\u001b[1;31mFileNotFoundError\u001b[0m                         Traceback (most recent call last)",
      "Cell \u001b[1;32mIn[128], line 2\u001b[0m\n\u001b[0;32m      1\u001b[0m \u001b[38;5;66;03m#Trying to open a file that does not exist, such as mistyping the file name or looking in the wrong directory. \u001b[39;00m\n\u001b[1;32m----> 2\u001b[0m \u001b[38;5;28;01mwith\u001b[39;00m \u001b[38;5;28mopen\u001b[39m(\u001b[38;5;124m'\u001b[39m\u001b[38;5;124mhello_file.txt\u001b[39m\u001b[38;5;124m'\u001b[39m, \u001b[38;5;124m'\u001b[39m\u001b[38;5;124mr\u001b[39m\u001b[38;5;124m'\u001b[39m) \u001b[38;5;28;01mas\u001b[39;00m file:\n\u001b[0;32m      4\u001b[0m     \u001b[38;5;28;01mpass\u001b[39;00m\n",
      "File \u001b[1;32m~\\anaconda3\\Lib\\site-packages\\IPython\\core\\interactiveshell.py:284\u001b[0m, in \u001b[0;36m_modified_open\u001b[1;34m(file, *args, **kwargs)\u001b[0m\n\u001b[0;32m    277\u001b[0m \u001b[38;5;28;01mif\u001b[39;00m file \u001b[38;5;129;01min\u001b[39;00m {\u001b[38;5;241m0\u001b[39m, \u001b[38;5;241m1\u001b[39m, \u001b[38;5;241m2\u001b[39m}:\n\u001b[0;32m    278\u001b[0m     \u001b[38;5;28;01mraise\u001b[39;00m \u001b[38;5;167;01mValueError\u001b[39;00m(\n\u001b[0;32m    279\u001b[0m         \u001b[38;5;124mf\u001b[39m\u001b[38;5;124m\"\u001b[39m\u001b[38;5;124mIPython won\u001b[39m\u001b[38;5;124m'\u001b[39m\u001b[38;5;124mt let you open fd=\u001b[39m\u001b[38;5;132;01m{\u001b[39;00mfile\u001b[38;5;132;01m}\u001b[39;00m\u001b[38;5;124m by default \u001b[39m\u001b[38;5;124m\"\u001b[39m\n\u001b[0;32m    280\u001b[0m         \u001b[38;5;124m\"\u001b[39m\u001b[38;5;124mas it is likely to crash IPython. If you know what you are doing, \u001b[39m\u001b[38;5;124m\"\u001b[39m\n\u001b[0;32m    281\u001b[0m         \u001b[38;5;124m\"\u001b[39m\u001b[38;5;124myou can use builtins\u001b[39m\u001b[38;5;124m'\u001b[39m\u001b[38;5;124m open.\u001b[39m\u001b[38;5;124m\"\u001b[39m\n\u001b[0;32m    282\u001b[0m     )\n\u001b[1;32m--> 284\u001b[0m \u001b[38;5;28;01mreturn\u001b[39;00m io_open(file, \u001b[38;5;241m*\u001b[39margs, \u001b[38;5;241m*\u001b[39m\u001b[38;5;241m*\u001b[39mkwargs)\n",
      "\u001b[1;31mFileNotFoundError\u001b[0m: [Errno 2] No such file or directory: 'hello_file.txt'"
     ]
    }
   ],
   "source": [
    "#Trying to open a file that does not exist, such as mistyping the file name or looking in the wrong directory. \n",
    "with open('hello_file.txt', 'r') as file:\n",
    "   \n",
    "    pass\n"
   ]
  },
  {
   "cell_type": "markdown",
   "id": "d23a2ba5",
   "metadata": {},
   "source": [
    "# Question 10"
   ]
  },
  {
   "cell_type": "markdown",
   "id": "bd7471b1",
   "metadata": {},
   "source": [
    "Write a function called frequencies() that takes a string as its only parameter, and returns a list of integers, \n",
    "showing the number of times each character appears in the text. Your function may ignore any characters that are\n",
    "not in letters. "
   ]
  },
  {
   "cell_type": "code",
   "execution_count": 132,
   "id": "5929869a",
   "metadata": {
    "scrolled": false
   },
   "outputs": [
    {
     "name": "stdout",
     "output_type": "stream",
     "text": [
      "Enter a sentence: hello my friends\n",
      "a: 0\n",
      "b: 0\n",
      "c: 0\n",
      "d: 1\n",
      "e: 2\n",
      "f: 1\n",
      "g: 0\n",
      "h: 1\n",
      "i: 1\n",
      "j: 0\n",
      "k: 0\n",
      "l: 2\n",
      "m: 1\n",
      "n: 1\n",
      "o: 1\n",
      "p: 0\n",
      "q: 0\n",
      "r: 1\n",
      "s: 1\n",
      "t: 0\n",
      "u: 0\n",
      "v: 0\n",
      "w: 0\n",
      "x: 0\n",
      "y: 1\n",
      "z: 0\n"
     ]
    }
   ],
   "source": [
    "def frequencies(sentence):\n",
    "    # Initialize a list of integers to store the counts of characters\n",
    "    counts = [0] * 26  # 26 letters in 'abcdefghijklmnopqrstuvwxyz'\n",
    "\n",
    "    # Convert the input text to lowercase to make it case-insensitive\n",
    "    sentence = sentence.lower()\n",
    "\n",
    "    # Define the letters\n",
    "    letters = 'abcdefghijklmnopqrstuvwxyz'\n",
    "\n",
    "    # Iterate through each character in the input text\n",
    "    for char in sentence:\n",
    "        # Check if the character is a letter\n",
    "        if char in letters:\n",
    "            # Increment the count for the corresponding character in the list\n",
    "            counts[letters.index(char)] += 1\n",
    "\n",
    "    return counts\n",
    "\n",
    "\n",
    "sentence = input(\"Enter a sentence: \")\n",
    "result = frequencies(sentence)\n",
    "\n",
    "# Print the letter frequencies\n",
    "for letter, count in zip('abcdefghijklmnopqrstuvwxyz', result):\n",
    "    print(f\"{letter}: {count}\")\n",
    "\n"
   ]
  },
  {
   "cell_type": "code",
   "execution_count": null,
   "id": "f23bd612",
   "metadata": {},
   "outputs": [],
   "source": []
  }
 ],
 "metadata": {
  "kernelspec": {
   "display_name": "Python 3 (ipykernel)",
   "language": "python",
   "name": "python3"
  },
  "language_info": {
   "codemirror_mode": {
    "name": "ipython",
    "version": 3
   },
   "file_extension": ".py",
   "mimetype": "text/x-python",
   "name": "python",
   "nbconvert_exporter": "python",
   "pygments_lexer": "ipython3",
   "version": "3.11.4"
  }
 },
 "nbformat": 4,
 "nbformat_minor": 5
}
